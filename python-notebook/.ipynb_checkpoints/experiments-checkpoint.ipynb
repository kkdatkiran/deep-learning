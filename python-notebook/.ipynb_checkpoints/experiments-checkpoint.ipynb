{
 "cells": [
  {
   "cell_type": "code",
   "execution_count": 2,
   "id": "17797410-15fc-4a7e-994c-eb1d64ba89ee",
   "metadata": {},
   "outputs": [
    {
     "name": "stdout",
     "output_type": "stream",
     "text": [
      "Requirement already satisfied: tensorflow in /Library/Frameworks/Python.framework/Versions/3.10/lib/python3.10/site-packages (2.8.0)\n",
      "Requirement already satisfied: pandas in /Library/Frameworks/Python.framework/Versions/3.10/lib/python3.10/site-packages (1.4.2)\n",
      "Requirement already satisfied: numpy in /Library/Frameworks/Python.framework/Versions/3.10/lib/python3.10/site-packages (1.22.3)\n",
      "Requirement already satisfied: astunparse>=1.6.0 in /Library/Frameworks/Python.framework/Versions/3.10/lib/python3.10/site-packages (from tensorflow) (1.6.3)\n",
      "Requirement already satisfied: google-pasta>=0.1.1 in /Library/Frameworks/Python.framework/Versions/3.10/lib/python3.10/site-packages (from tensorflow) (0.2.0)\n",
      "Requirement already satisfied: gast>=0.2.1 in /Library/Frameworks/Python.framework/Versions/3.10/lib/python3.10/site-packages (from tensorflow) (0.5.3)\n",
      "Requirement already satisfied: libclang>=9.0.1 in /Library/Frameworks/Python.framework/Versions/3.10/lib/python3.10/site-packages (from tensorflow) (13.0.0)\n",
      "Requirement already satisfied: typing-extensions>=3.6.6 in /Library/Frameworks/Python.framework/Versions/3.10/lib/python3.10/site-packages (from tensorflow) (4.1.1)\n",
      "Requirement already satisfied: six>=1.12.0 in /Library/Frameworks/Python.framework/Versions/3.10/lib/python3.10/site-packages (from tensorflow) (1.16.0)\n",
      "Requirement already satisfied: flatbuffers>=1.12 in /Library/Frameworks/Python.framework/Versions/3.10/lib/python3.10/site-packages (from tensorflow) (2.0)\n",
      "Requirement already satisfied: keras-preprocessing>=1.1.1 in /Library/Frameworks/Python.framework/Versions/3.10/lib/python3.10/site-packages (from tensorflow) (1.1.2)\n",
      "Requirement already satisfied: protobuf>=3.9.2 in /Library/Frameworks/Python.framework/Versions/3.10/lib/python3.10/site-packages (from tensorflow) (3.20.0)\n",
      "Requirement already satisfied: wrapt>=1.11.0 in /Library/Frameworks/Python.framework/Versions/3.10/lib/python3.10/site-packages (from tensorflow) (1.14.0)\n",
      "Requirement already satisfied: tensorflow-io-gcs-filesystem>=0.23.1 in /Library/Frameworks/Python.framework/Versions/3.10/lib/python3.10/site-packages (from tensorflow) (0.24.0)\n",
      "Requirement already satisfied: absl-py>=0.4.0 in /Library/Frameworks/Python.framework/Versions/3.10/lib/python3.10/site-packages (from tensorflow) (1.0.0)\n",
      "Requirement already satisfied: h5py>=2.9.0 in /Library/Frameworks/Python.framework/Versions/3.10/lib/python3.10/site-packages (from tensorflow) (3.6.0)\n",
      "Requirement already satisfied: setuptools in /Library/Frameworks/Python.framework/Versions/3.10/lib/python3.10/site-packages (from tensorflow) (58.1.0)\n",
      "Requirement already satisfied: tensorboard<2.9,>=2.8 in /Library/Frameworks/Python.framework/Versions/3.10/lib/python3.10/site-packages (from tensorflow) (2.8.0)\n",
      "Requirement already satisfied: grpcio<2.0,>=1.24.3 in /Library/Frameworks/Python.framework/Versions/3.10/lib/python3.10/site-packages (from tensorflow) (1.44.0)\n",
      "Requirement already satisfied: keras<2.9,>=2.8.0rc0 in /Library/Frameworks/Python.framework/Versions/3.10/lib/python3.10/site-packages (from tensorflow) (2.8.0)\n",
      "Requirement already satisfied: tf-estimator-nightly==2.8.0.dev2021122109 in /Library/Frameworks/Python.framework/Versions/3.10/lib/python3.10/site-packages (from tensorflow) (2.8.0.dev2021122109)\n",
      "Requirement already satisfied: termcolor>=1.1.0 in /Library/Frameworks/Python.framework/Versions/3.10/lib/python3.10/site-packages (from tensorflow) (1.1.0)\n",
      "Requirement already satisfied: opt-einsum>=2.3.2 in /Library/Frameworks/Python.framework/Versions/3.10/lib/python3.10/site-packages (from tensorflow) (3.3.0)\n",
      "Requirement already satisfied: pytz>=2020.1 in /Library/Frameworks/Python.framework/Versions/3.10/lib/python3.10/site-packages (from pandas) (2022.1)\n",
      "Requirement already satisfied: python-dateutil>=2.8.1 in /Library/Frameworks/Python.framework/Versions/3.10/lib/python3.10/site-packages (from pandas) (2.8.2)\n",
      "Requirement already satisfied: wheel<1.0,>=0.23.0 in /Library/Frameworks/Python.framework/Versions/3.10/lib/python3.10/site-packages (from astunparse>=1.6.0->tensorflow) (0.37.1)\n",
      "Requirement already satisfied: tensorboard-data-server<0.7.0,>=0.6.0 in /Library/Frameworks/Python.framework/Versions/3.10/lib/python3.10/site-packages (from tensorboard<2.9,>=2.8->tensorflow) (0.6.1)\n",
      "Requirement already satisfied: google-auth<3,>=1.6.3 in /Library/Frameworks/Python.framework/Versions/3.10/lib/python3.10/site-packages (from tensorboard<2.9,>=2.8->tensorflow) (2.6.2)\n",
      "Requirement already satisfied: requests<3,>=2.21.0 in /Library/Frameworks/Python.framework/Versions/3.10/lib/python3.10/site-packages (from tensorboard<2.9,>=2.8->tensorflow) (2.27.1)\n",
      "Requirement already satisfied: tensorboard-plugin-wit>=1.6.0 in /Library/Frameworks/Python.framework/Versions/3.10/lib/python3.10/site-packages (from tensorboard<2.9,>=2.8->tensorflow) (1.8.1)\n",
      "Requirement already satisfied: google-auth-oauthlib<0.5,>=0.4.1 in /Library/Frameworks/Python.framework/Versions/3.10/lib/python3.10/site-packages (from tensorboard<2.9,>=2.8->tensorflow) (0.4.6)\n",
      "Requirement already satisfied: markdown>=2.6.8 in /Library/Frameworks/Python.framework/Versions/3.10/lib/python3.10/site-packages (from tensorboard<2.9,>=2.8->tensorflow) (3.3.6)\n",
      "Requirement already satisfied: werkzeug>=0.11.15 in /Library/Frameworks/Python.framework/Versions/3.10/lib/python3.10/site-packages (from tensorboard<2.9,>=2.8->tensorflow) (2.1.1)\n",
      "Requirement already satisfied: pyasn1-modules>=0.2.1 in /Library/Frameworks/Python.framework/Versions/3.10/lib/python3.10/site-packages (from google-auth<3,>=1.6.3->tensorboard<2.9,>=2.8->tensorflow) (0.2.8)\n",
      "Requirement already satisfied: cachetools<6.0,>=2.0.0 in /Library/Frameworks/Python.framework/Versions/3.10/lib/python3.10/site-packages (from google-auth<3,>=1.6.3->tensorboard<2.9,>=2.8->tensorflow) (5.0.0)\n",
      "Requirement already satisfied: rsa<5,>=3.1.4 in /Library/Frameworks/Python.framework/Versions/3.10/lib/python3.10/site-packages (from google-auth<3,>=1.6.3->tensorboard<2.9,>=2.8->tensorflow) (4.8)\n",
      "Requirement already satisfied: requests-oauthlib>=0.7.0 in /Library/Frameworks/Python.framework/Versions/3.10/lib/python3.10/site-packages (from google-auth-oauthlib<0.5,>=0.4.1->tensorboard<2.9,>=2.8->tensorflow) (1.3.1)\n",
      "Requirement already satisfied: certifi>=2017.4.17 in /Library/Frameworks/Python.framework/Versions/3.10/lib/python3.10/site-packages (from requests<3,>=2.21.0->tensorboard<2.9,>=2.8->tensorflow) (2021.10.8)\n",
      "Requirement already satisfied: urllib3<1.27,>=1.21.1 in /Library/Frameworks/Python.framework/Versions/3.10/lib/python3.10/site-packages (from requests<3,>=2.21.0->tensorboard<2.9,>=2.8->tensorflow) (1.26.9)\n",
      "Requirement already satisfied: charset-normalizer~=2.0.0 in /Library/Frameworks/Python.framework/Versions/3.10/lib/python3.10/site-packages (from requests<3,>=2.21.0->tensorboard<2.9,>=2.8->tensorflow) (2.0.12)\n",
      "Requirement already satisfied: idna<4,>=2.5 in /Library/Frameworks/Python.framework/Versions/3.10/lib/python3.10/site-packages (from requests<3,>=2.21.0->tensorboard<2.9,>=2.8->tensorflow) (3.3)\n",
      "Requirement already satisfied: pyasn1<0.5.0,>=0.4.6 in /Library/Frameworks/Python.framework/Versions/3.10/lib/python3.10/site-packages (from pyasn1-modules>=0.2.1->google-auth<3,>=1.6.3->tensorboard<2.9,>=2.8->tensorflow) (0.4.8)\n",
      "Requirement already satisfied: oauthlib>=3.0.0 in /Library/Frameworks/Python.framework/Versions/3.10/lib/python3.10/site-packages (from requests-oauthlib>=0.7.0->google-auth-oauthlib<0.5,>=0.4.1->tensorboard<2.9,>=2.8->tensorflow) (3.2.0)\n"
     ]
    }
   ],
   "source": [
    "!pip3 install tensorflow pandas numpy \n"
   ]
  },
  {
   "cell_type": "code",
   "execution_count": 3,
   "id": "90bf8a5e-2e30-4000-b1ad-aed5a585c404",
   "metadata": {},
   "outputs": [],
   "source": [
    "import tensorflow as tf\n",
    "import numpy as np\n",
    "from keras.models import Sequential\n",
    "from keras.layers.core import Dense\n",
    "from keras.layers import Input"
   ]
  },
  {
   "cell_type": "code",
   "execution_count": 6,
   "id": "041ae67c-7946-4fcf-9a39-8fd15798729a",
   "metadata": {},
   "outputs": [
    {
     "name": "stdout",
     "output_type": "stream",
     "text": [
      "Model: \"sequential_1\"\n",
      "_________________________________________________________________\n",
      " Layer (type)                Output Shape              Param #   \n",
      "=================================================================\n",
      " dense_2 (Dense)             (None, 16)                48        \n",
      "                                                                 \n",
      " dense_3 (Dense)             (None, 1)                 17        \n",
      "                                                                 \n",
      "=================================================================\n",
      "Total params: 65\n",
      "Trainable params: 65\n",
      "Non-trainable params: 0\n",
      "_________________________________________________________________\n",
      "None\n"
     ]
    },
    {
     "data": {
      "text/plain": [
       "<keras.callbacks.History at 0x14dcecd60>"
      ]
     },
     "execution_count": 6,
     "metadata": {},
     "output_type": "execute_result"
    }
   ],
   "source": [
    "\n",
    "training_data = np.array([[0,0],[0,1],[1,0],[1,1]], \"float32\")\n",
    "\n",
    "target_data = np.array([[0],[1],[1],[0]], \"float32\")\n",
    "\n",
    "model = Sequential()\n",
    "model.add(Input(shape = (2,)))\n",
    "model.add(Dense(16, activation='relu'))\n",
    "model.add(Dense(1, activation='sigmoid'))\n",
    "\n",
    "model.compile(loss='mse', optimizer='sgd', metrics=['accuracy'])\n",
    "print(model.summary())\n",
    "\n",
    "model.fit(training_data, target_data, epochs=2000, verbose = 0, batch_size = 1)"
   ]
  },
  {
   "cell_type": "code",
   "execution_count": 8,
   "id": "3de1a78b-a8e1-4de6-8fab-ada92d3b9135",
   "metadata": {},
   "outputs": [
    {
     "name": "stdout",
     "output_type": "stream",
     "text": [
      "[[0.871457 ]\n",
      " [0.1624924]]\n"
     ]
    }
   ],
   "source": [
    "print(model.predict(np.array([[1,0],[1,1]], \"float32\")))"
   ]
  },
  {
   "cell_type": "code",
   "execution_count": 30,
   "id": "18defd62-ce91-4710-a344-3db5a8a07f11",
   "metadata": {},
   "outputs": [],
   "source": [
    "import keras\n",
    "from keras.datasets import mnist\n",
    "    \n",
    "(x_train, y_train), (x_test, y_test) = mnist.load_data()\n",
    "\n",
    "num_classes = 10\n",
    "y_train = keras.utils.np_utils.to_categorical(y_train, num_classes)\n",
    "y_test = keras.utils.np_utils.to_categorical(y_test, num_classes)\n",
    "\n",
    "x_train = x_train.reshape(x_train.shape[0], 784)\n",
    "x_test = x_test.reshape(x_test.shape[0], 784)"
   ]
  },
  {
   "cell_type": "code",
   "execution_count": 38,
   "id": "68b8eff2-e605-44c8-9259-32bcfaf2413a",
   "metadata": {},
   "outputs": [
    {
     "name": "stdout",
     "output_type": "stream",
     "text": [
      "Model: \"sequential_10\"\n",
      "_________________________________________________________________\n",
      " Layer (type)                Output Shape              Param #   \n",
      "=================================================================\n",
      " dense_36 (Dense)            (None, 32)                25120     \n",
      "                                                                 \n",
      " dense_37 (Dense)            (None, 64)                2112      \n",
      "                                                                 \n",
      " dense_38 (Dense)            (None, 32)                2080      \n",
      "                                                                 \n",
      " dense_39 (Dense)            (None, 10)                330       \n",
      "                                                                 \n",
      "=================================================================\n",
      "Total params: 29,642\n",
      "Trainable params: 29,642\n",
      "Non-trainable params: 0\n",
      "_________________________________________________________________\n"
     ]
    }
   ],
   "source": [
    "model = Sequential()\n",
    "\n",
    "model.add(Input(shape = (784,)))\n",
    "model.add(Dense(units=32, activation='sigmoid'))\n",
    "model.add(Dense(units=64, activation='sigmoid'))\n",
    "model.add(Dense(units=32, activation='sigmoid'))\n",
    "model.add(Dense(units=10, activation='softmax'))\n",
    "model.summary()\n",
    "\n",
    "model.compile(optimizer=\"sgd\", loss='mse', metrics=['accuracy'])"
   ]
  },
  {
   "cell_type": "code",
   "execution_count": 49,
   "id": "96c41a80-af72-4ef5-96b4-3898de3a5cff",
   "metadata": {},
   "outputs": [
    {
     "name": "stdout",
     "output_type": "stream",
     "text": [
      "Final Loss : \n",
      "0.011155173182487488\n",
      "Totalt time : 2.9736 minutes\n"
     ]
    }
   ],
   "source": [
    "import time\n",
    "start = round(time.time() * 1000)\n",
    "history = model.fit(x_train, y_train, batch_size=32, epochs=100, verbose=False)\n",
    "end = round(time.time() * 1000) - start\n",
    "\n",
    "print(\"Final Loss : \")\n",
    "print(history.history['loss'][-1])\n",
    "print(\"Totalt time : \"+str(end / (60 * 1000))+\" minutes\")"
   ]
  },
  {
   "cell_type": "code",
   "execution_count": 50,
   "id": "5153c16d-0b22-44dd-be20-8d883e117ca1",
   "metadata": {},
   "outputs": [
    {
     "name": "stdout",
     "output_type": "stream",
     "text": [
      "Number :\n",
      "[0. 0. 0. 0. 0. 0. 1. 0. 0. 0.]\n",
      "Output :\n",
      "[5.3856294e-03 2.5307725e-06 1.6147406e-04 2.0335196e-03 1.7155228e-03\n",
      " 5.3807907e-04 9.8692572e-06 9.6935141e-01 5.7662474e-03 1.5035731e-02]\n",
      "Number :\n",
      "[0. 0. 0. 0. 0. 1. 0. 0. 0. 0.]\n",
      "Output :\n",
      "[3.84759950e-03 8.58976506e-04 9.67691481e-01 1.92052010e-03\n",
      " 8.98561048e-05 1.08638005e-02 1.04220593e-02 2.69944412e-05\n",
      " 4.27725958e-03 1.39199983e-06]\n",
      "Number :\n",
      "[0. 1. 0. 0. 0. 0. 0. 0. 0. 0.]\n",
      "Output :\n",
      "[2.0304961e-07 9.7031838e-01 5.7087787e-03 5.1118531e-03 5.7437940e-04\n",
      " 1.8267490e-03 3.3789671e-03 3.4639374e-06 1.0426474e-02 2.6507177e-03]\n",
      "Number :\n",
      "[0. 0. 0. 0. 0. 0. 0. 1. 0. 0.]\n",
      "Output :\n",
      "[9.4541782e-01 8.1720583e-07 5.5252700e-03 1.0130381e-03 1.2005535e-03\n",
      " 3.1373288e-02 8.9906290e-04 1.1808856e-02 2.7504449e-03 1.0901089e-05]\n",
      "Number :\n",
      "[0. 0. 0. 0. 0. 1. 0. 0. 0. 0.]\n",
      "Output :\n",
      "[1.7918674e-03 4.3806364e-04 4.5128661e-04 7.6683493e-05 9.1489840e-01\n",
      " 8.0678649e-03 4.2459525e-02 5.2808849e-03 5.1516802e-03 2.1383781e-02]\n",
      "Number :\n",
      "[0. 1. 0. 0. 0. 0. 0. 0. 0. 0.]\n",
      "Output :\n",
      "[1.6018512e-07 9.5523804e-01 2.6122413e-03 9.7759431e-03 5.8984710e-04\n",
      " 1.7347222e-03 1.2929232e-03 1.2203397e-05 1.8275278e-02 1.0468730e-02]\n",
      "Number :\n",
      "[0. 0. 0. 0. 0. 0. 0. 0. 0. 1.]\n",
      "Output :\n",
      "[2.3096614e-03 6.4398628e-04 2.1508905e-04 3.8355857e-04 8.5641581e-01\n",
      " 2.7090913e-02 1.2649728e-02 1.1507745e-02 2.0738872e-02 6.8044737e-02]\n",
      "Number :\n",
      "[0. 0. 0. 0. 0. 0. 0. 1. 0. 0.]\n",
      "Output :\n",
      "[5.4029210e-06 3.5682106e-03 2.8365059e-05 1.2458971e-03 2.4124539e-02\n",
      " 7.7309471e-04 1.4975666e-04 9.4616460e-03 1.9610886e-02 9.4103211e-01]\n",
      "Number :\n",
      "[0. 1. 0. 0. 0. 0. 0. 0. 0. 0.]\n",
      "Output :\n",
      "[5.0910104e-02 2.8292608e-04 2.3068247e-02 8.1407525e-05 9.3456395e-02\n",
      " 9.0144753e-02 7.3980874e-01 2.3660695e-04 1.9507987e-03 5.9971553e-05]\n",
      "Number :\n",
      "[0. 0. 0. 0. 0. 0. 0. 1. 0. 0.]\n",
      "Output :\n",
      "[2.6916019e-05 5.3859409e-04 1.2432986e-05 4.4614624e-04 5.4277152e-02\n",
      " 8.4297382e-04 1.5628696e-04 2.9238192e-02 1.2791694e-02 9.0166968e-01]\n"
     ]
    }
   ],
   "source": [
    "import random\n",
    "\n",
    "test_sample_x = []\n",
    "test_sample_y = []\n",
    "for i in range(0,10):\n",
    "    r = random.randint(0, 5000)\n",
    "    test_sample_x.append(x_test[r])\n",
    "    test_sample_y.append(y_test[r])\n",
    "\n",
    "predict = model.predict(np.array(x_test))\n",
    "\n",
    "for i in range(0,10):\n",
    "    print(\"Number :\")\n",
    "    print(test_sample_y[i])\n",
    "    print(\"Output :\")\n",
    "    print(predict[i])"
   ]
  },
  {
   "cell_type": "code",
   "execution_count": null,
   "id": "a82d2fbb-9e84-4347-b098-f8fc59fc4988",
   "metadata": {},
   "outputs": [],
   "source": []
  }
 ],
 "metadata": {
  "kernelspec": {
   "display_name": "Python 3 (ipykernel)",
   "language": "python",
   "name": "python3"
  },
  "language_info": {
   "codemirror_mode": {
    "name": "ipython",
    "version": 3
   },
   "file_extension": ".py",
   "mimetype": "text/x-python",
   "name": "python",
   "nbconvert_exporter": "python",
   "pygments_lexer": "ipython3",
   "version": "3.10.4"
  }
 },
 "nbformat": 4,
 "nbformat_minor": 5
}
