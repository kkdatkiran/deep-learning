{
 "cells": [
  {
   "cell_type": "code",
   "execution_count": 1,
   "id": "cfde9b5c-3c8c-4a8a-aa6f-ca765d150753",
   "metadata": {},
   "outputs": [],
   "source": [
    "import numpy as np"
   ]
  },
  {
   "cell_type": "code",
   "execution_count": 172,
   "id": "37e5039d-7c42-4727-a206-110db0d6e49c",
   "metadata": {},
   "outputs": [
    {
     "name": "stdout",
     "output_type": "stream",
     "text": [
      "(5,)\n",
      "[1 2 3 4 5]\n",
      "(1,)\n",
      "[1]\n"
     ]
    }
   ],
   "source": [
    "# x = np.array([[1,2,3],[4,5,6]]) \n",
    "a = np.array([1,2,3,4,5]);\n",
    "print (a.shape)\n",
    "print (a)\n",
    "a = a[np.newaxis, 0]\n",
    "print (a.shape)\n",
    "print (a)"
   ]
  }
 ],
 "metadata": {
  "kernelspec": {
   "display_name": "Python 3 (ipykernel)",
   "language": "python",
   "name": "python3"
  },
  "language_info": {
   "codemirror_mode": {
    "name": "ipython",
    "version": 3
   },
   "file_extension": ".py",
   "mimetype": "text/x-python",
   "name": "python",
   "nbconvert_exporter": "python",
   "pygments_lexer": "ipython3",
   "version": "3.10.4"
  }
 },
 "nbformat": 4,
 "nbformat_minor": 5
}
